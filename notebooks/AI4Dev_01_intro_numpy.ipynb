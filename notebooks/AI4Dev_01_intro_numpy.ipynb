{
  "nbformat": 4,
  "nbformat_minor": 0,
  "metadata": {
    "colab": {
      "provenance": [],
      "authorship_tag": "ABX9TyP8uhfnxh5X0VbfdR1Tg2ve",
      "include_colab_link": true
    },
    "kernelspec": {
      "name": "python3",
      "display_name": "Python 3"
    },
    "language_info": {
      "name": "python"
    }
  },
  "cells": [
    {
      "cell_type": "markdown",
      "metadata": {
        "id": "view-in-github",
        "colab_type": "text"
      },
      "source": [
        "<a href=\"https://colab.research.google.com/github/battistabiggio/ai4dev/blob/main/AI4Dev_01_intro_numpy.ipynb\" target=\"_parent\"><img src=\"https://colab.research.google.com/assets/colab-badge.svg\" alt=\"Open In Colab\"/></a>"
      ]
    },
    {
      "cell_type": "markdown",
      "source": [
        "# Introduction to libraries and basic operations"
      ],
      "metadata": {
        "id": "Q951vWGqXfmJ"
      }
    },
    {
      "cell_type": "markdown",
      "source": [
        "## Basic Operations with arrays\n",
        "\n",
        "In Python, we can use the `numpy` library to represent data in a structured way. It's also better than using generic python lists, as:\n",
        "* arrays are more easy to index\n",
        "* APIs are better and targeted to numerical applications (including ML!)\n",
        "* computational efficiency - interfaces are in python, but the operations are run with efficient C++ backend\n",
        "\n",
        "And these are just a few aspects. There are way more that we will not cover here.\n",
        "\n",
        "We first introduce the array creation operations to either wrap existing data structures into numpy arrays, or to generate arrays with known properties (e.g., a matrix of zeros)."
      ],
      "metadata": {
        "id": "kayisHC2OMYY"
      }
    },
    {
      "cell_type": "code",
      "execution_count": 1,
      "metadata": {
        "colab": {
          "base_uri": "https://localhost:8080/"
        },
        "id": "OYqJ723jMVrV",
        "outputId": "fe147de2-6e1f-49ab-9d5a-47515194836e"
      },
      "outputs": [
        {
          "output_type": "stream",
          "name": "stdout",
          "text": [
            "(2, 3)\n",
            "int64\n",
            "float64\n",
            "[[0. 0. 0. 0.]\n",
            " [0. 0. 0. 0.]]\n"
          ]
        }
      ],
      "source": [
        "import numpy as np\n",
        "\n",
        "a = np.array([[1, 2, 3], [4, 5, 6]])\n",
        "print(a.shape)  # prints the dimensions of the array\n",
        "print(a.dtype)  # prints the data type of the elements\n",
        "\n",
        "a.dtype = np.float64  # casting operation\n",
        "print(a.dtype)\n",
        "\n",
        "n_rows, n_cols = 2, 4\n",
        "# creates a matrix of zero-valued elements with the given shape\n",
        "a = np.zeros(shape=(n_rows, n_cols))\n",
        "\n",
        "print(a)"
      ]
    },
    {
      "cell_type": "markdown",
      "source": [
        "## More methods to create arrays\n",
        "\n",
        "Here we see other APIs for creation of arrays.\n",
        "These are useful to sample distributions with known properties or also to create useful structures to transform the arrays (e.g., masking operations, indexing)."
      ],
      "metadata": {
        "id": "V7SRpkIBOQfy"
      }
    },
    {
      "cell_type": "code",
      "source": [
        "a = np.ones(shape=(n_rows, n_cols))  # creates matrix of ones\n",
        "print(a)\n",
        "\n",
        "a = np.eye(n_rows, n_cols)  # creates identity matrix\n",
        "print(a)\n",
        "\n",
        "# random numbers from Normal distribution\n",
        "# with zero mean and unit variance\n",
        "a = np.random.randn(n_rows, n_cols)\n",
        "print(a)\n",
        "\n",
        "# random numbers from Uniform distribution in [0,1]\n",
        "a = np.random.rand(n_rows, n_cols)\n",
        "print(a)\n",
        "\n",
        "a = np.random.randint(0, 5, [n_rows, n_cols])  # random integers\n",
        "print(a)\n"
      ],
      "metadata": {
        "id": "hcO4OMsAMyDq",
        "colab": {
          "base_uri": "https://localhost:8080/"
        },
        "outputId": "7af5de84-bb92-41fa-e156-91fb78a88ee9"
      },
      "execution_count": 2,
      "outputs": [
        {
          "output_type": "stream",
          "name": "stdout",
          "text": [
            "[[1. 1. 1. 1.]\n",
            " [1. 1. 1. 1.]]\n",
            "[[1. 0. 0. 0.]\n",
            " [0. 1. 0. 0.]]\n",
            "[[ 0.90996221  0.27430254  0.03586409 -0.05597693]\n",
            " [ 0.26379571  0.20626228 -2.57862825  0.7875208 ]]\n",
            "[[0.581358   0.62739482 0.47861371 0.46201351]\n",
            " [0.50141633 0.15785272 0.21654061 0.94829879]]\n",
            "[[2 2 3 1]\n",
            " [2 0 2 3]]\n"
          ]
        }
      ]
    },
    {
      "cell_type": "markdown",
      "source": [
        "## Array Indexing\n",
        "\n",
        "Sometimes we are interested in extracting certain elements from the arrays. We use indexing operations for this.\n",
        "\n",
        "With python lists, we can index individual elements or also ranges of elements. We can also do it with numpy arrays, but we can also bring it to the next level.\n",
        "\n",
        "Specifically, to index elements in multi-dimensional arrays, we can now use a more compact and intuitive notation.\n",
        "\n",
        "To extract one element, it is sufficient to list the indices conecutively. For example, in a 2D array, we can use the compact notation:\n",
        "\n",
        "```python\n",
        "a[0, 1]\n",
        "```\n",
        "\n",
        "More in general, we can select subsets of the elements by using the notation\n",
        "\n",
        "```\n",
        "<start>:<stop>:<step>\n",
        "```\n",
        "\n",
        "Where any, if omitted, defaults to:\n",
        "* start $\\rightarrow$ the beginning of the array (first index)\n",
        "* stop $\\rightarrow$ the end of the arrya (the last index)\n",
        "* step $\\rightarrow$ one, i.e., take all elements without skipping any\n",
        "\n",
        "Then, we can extract submatrices from the arrays by specifying the indices for the slices. For example, if we start from a 2D array, we can extract submatrices by using:\n",
        "\n",
        "```python\n",
        "a[0:2, 0:2]  # extracts submatrix of rows 0 to 2 and columns 0 to 2\n",
        "```\n",
        "\n",
        "where each index is used for a dimension of the array (thus this instruction will return the element in the row 0, column 1).\n",
        "\n",
        "We can also select entire rows or columns (or more in general dimensions) with the colon operator (`:`), that omits all three parameters.\n",
        "\n",
        "For example, in the previous array, we can select the row 0 by using the colon operator in the first dimension:\n",
        "\n",
        "```python\n",
        "a[0, :]\n",
        "```\n",
        "\n",
        "and column 0 by using the colon operation in the first dimension:\n",
        "\n",
        "```python\n",
        "a[:, 0]\n",
        "```\n"
      ],
      "metadata": {
        "id": "z4EGI4KPOKlm"
      }
    },
    {
      "cell_type": "code",
      "source": [
        "a = np.eye(3)\n",
        "print(a)\n",
        "\n",
        "element = a[0, 0]  # picks the first element (returns float)\n",
        "print(element)\n",
        "\n",
        "submatrix = a[0:2, 0:2]  #selects submatrix with slicing operators\n",
        "print(submatrix)\n",
        "\n",
        "row = a[0, :]  # picks the first row (returns flat array)\n",
        "print(row)\n",
        "\n",
        "column = a[:, 1]  # picks the second column (returns flat array)\n",
        "print(column)"
      ],
      "metadata": {
        "colab": {
          "base_uri": "https://localhost:8080/"
        },
        "id": "l6frRVC5OEkG",
        "outputId": "716d2196-78bd-4a6b-e642-95c08bc655ce"
      },
      "execution_count": 3,
      "outputs": [
        {
          "output_type": "stream",
          "name": "stdout",
          "text": [
            "[[1. 0. 0.]\n",
            " [0. 1. 0.]\n",
            " [0. 0. 1.]]\n",
            "1.0\n",
            "[[1. 0.]\n",
            " [0. 1.]]\n",
            "[1. 0. 0.]\n",
            "[0. 1. 0.]\n"
          ]
        }
      ]
    },
    {
      "cell_type": "markdown",
      "source": [
        "We can also index arrays with other arrays of boolean type.\n",
        "Boolean arrays can be the result of a boolean comparison in numpy."
      ],
      "metadata": {
        "id": "sYYmS8Z7dzcX"
      }
    },
    {
      "cell_type": "code",
      "source": [
        "a = np.eye(3)\n",
        "b = np.array([1, 1, 0])\n",
        "indexed_a = a[b, :] # in this case it will pick the row 1 twice, then row 0 once\n",
        "print(indexed_a)\n",
        "\n",
        "# boolean_operator\n",
        "indexed_a = a[b==1, :]  # in this case it will pick the rows where b is == 1\n",
        "print(indexed_a)\n"
      ],
      "metadata": {
        "colab": {
          "base_uri": "https://localhost:8080/"
        },
        "id": "7GSDs4F9bXEy",
        "outputId": "ef800edc-ec99-42b0-afe2-a66f98f61bf6"
      },
      "execution_count": 4,
      "outputs": [
        {
          "output_type": "stream",
          "name": "stdout",
          "text": [
            "[[0. 1. 0.]\n",
            " [0. 1. 0.]\n",
            " [1. 0. 0.]]\n",
            "[[1. 0. 0.]\n",
            " [0. 1. 0.]]\n"
          ]
        }
      ]
    },
    {
      "cell_type": "markdown",
      "source": [
        "The complete reference for knowing about indexing arrays can be found in the docs:\n",
        "- https://numpy.org/doc/stable/reference/arrays.indexing.html"
      ],
      "metadata": {
        "id": "1ncnA_tYbWam"
      }
    },
    {
      "cell_type": "markdown",
      "source": [
        "## Other operations on arrays\n",
        "\n",
        "There are other operations that can be used to transform arrays.\n",
        "\n",
        "For example, we can transpose arrays, stack them vertically or horizontally, and perform standard operations (e.g., sums, multiplications, etc)."
      ],
      "metadata": {
        "id": "8uTn8w7jOokw"
      }
    },
    {
      "cell_type": "code",
      "source": [
        "a = np.array([1, 2, 3])\n",
        "b = np.array([4, 5, 6])\n",
        "c = np.array([[1, 2, 3], [4, 5, 6]])\n",
        "\n",
        "transpose = c.T  # swaps rows and columns\n",
        "print(transpose)\n",
        "\n",
        "vertical_stack = np.vstack((a, b))  # stack rows (vertical stacking)\n",
        "print(vertical_stack)\n",
        "\n",
        "horizontal_stack = np.hstack((a, b)) # stack columns (horizontal stacking)\n",
        "print(horizontal_stack)\n",
        "\n",
        "# element-wise operations\n",
        "array_sum = a + b\n",
        "print(array_sum)\n",
        "\n",
        "array_product = a * b\n",
        "print(array_product)\n",
        "\n",
        "scalar_product = a.dot(b)  # scalar product\n",
        "print(scalar_product)\n",
        "\n",
        "# inner dimensions must match for matrix operations\n",
        "# 1x3 and 3x2 --> result is 1x2\n",
        "scalar_product_with_matrix = a.dot(c.T)\n",
        "print(scalar_product_with_matrix)"
      ],
      "metadata": {
        "id": "QGd0F4suOp-2",
        "colab": {
          "base_uri": "https://localhost:8080/"
        },
        "outputId": "c87dc96c-4448-4c13-f934-0aab054d0cd9"
      },
      "execution_count": 5,
      "outputs": [
        {
          "output_type": "stream",
          "name": "stdout",
          "text": [
            "[[1 4]\n",
            " [2 5]\n",
            " [3 6]]\n",
            "[[1 2 3]\n",
            " [4 5 6]]\n",
            "[1 2 3 4 5 6]\n",
            "[5 7 9]\n",
            "[ 4 10 18]\n",
            "32\n",
            "[14 32]\n"
          ]
        }
      ]
    },
    {
      "cell_type": "markdown",
      "source": [
        "## Exercise\n",
        "\n",
        "Define a function `extract_subset(x, y, y0)` that takes as input:\n",
        "\n",
        "- a 2D matrix `x`, and an array `y`\n",
        "-  a target `y0` (e.g., `y0=0`)\n",
        "\n",
        "and returns the matrix containing only rows where y is equal to the value of y0"
      ],
      "metadata": {
        "id": "3hFYZ8ixOy_c"
      }
    },
    {
      "cell_type": "code",
      "source": [
        "x = np.array([\n",
        "        [ 0.33990211,  0.94182274,  0.66611658,  0.72773846],\n",
        "        [ 0.20281557,  0.24280422,  0.3627702,   0.80495032],\n",
        "        [ 0.5016927,   0.29465024,  0.61690932,  0.25302243],\n",
        "        [ 0.01744464,  0.82521145,  0.82226041,  0.89858553],\n",
        "        [ 0.33772606,  0.17433791,  0.7705529,   0.11211808]\n",
        "    ])\n",
        "\n",
        "y = np.array([0, 0, 1, 1, 1])  # one value for each row of x\n",
        "\n",
        "def extract_subset(x, y, y0):\n",
        "    return x[y == y0, :]\n",
        "\n",
        "result = extract_subset(x, y, y0=0)\n",
        "print(result)\n"
      ],
      "metadata": {
        "id": "91ZhTMn_O16y",
        "colab": {
          "base_uri": "https://localhost:8080/"
        },
        "outputId": "e2a9ed05-450e-4284-aa02-63992f469f70"
      },
      "execution_count": 6,
      "outputs": [
        {
          "output_type": "stream",
          "name": "stdout",
          "text": [
            "[[0.33990211 0.94182274 0.66611658 0.72773846]\n",
            " [0.20281557 0.24280422 0.3627702  0.80495032]]\n"
          ]
        }
      ]
    },
    {
      "cell_type": "markdown",
      "source": [
        "## Handling data with Pandas\n",
        "\n",
        "Pandas provides two types of classes for handling data:\n",
        "\n",
        "* **Series**: a one-dimensional labeled array holding data of any type such as integers, strings, Python objects etc.\n",
        "* **DataFrame**: a two-dimensional data structure that holds data like a two-dimension array or a table with rows and columns.\n",
        "\n",
        "Creating a Series by passing a list of values makes pandas create a default RangeIndex to index the series. This is an array of indexes from 0 to the length of the series.\n"
      ],
      "metadata": {
        "id": "OBXBvxnxjPha"
      }
    },
    {
      "cell_type": "code",
      "source": [
        "import pandas as pd\n",
        "\n",
        "s = pd.Series([1, 3, 5, np.nan, 6, 8])\n",
        "print(s)"
      ],
      "metadata": {
        "colab": {
          "base_uri": "https://localhost:8080/"
        },
        "id": "Wiz1WFNvjRJ3",
        "outputId": "52a0226e-6d4b-4dd1-ec92-a2c4ef25344d"
      },
      "execution_count": 7,
      "outputs": [
        {
          "output_type": "stream",
          "name": "stdout",
          "text": [
            "0    1.0\n",
            "1    3.0\n",
            "2    5.0\n",
            "3    NaN\n",
            "4    6.0\n",
            "5    8.0\n",
            "dtype: float64\n"
          ]
        }
      ]
    },
    {
      "cell_type": "markdown",
      "source": [
        "Otherwise, we can create a DataFrame by passing a NumPy array. Optionally, we can specify explicitly the index to use. For example, we can create a datetime index using `date_range()`. Additionally, we can create named columns by passing the labels during creation:"
      ],
      "metadata": {
        "id": "vMbhSt1Xj6YY"
      }
    },
    {
      "cell_type": "code",
      "source": [
        "dates = pd.date_range(\"20130101\", periods=20)  # explicit index with 20 elements\n",
        "data = np.random.randn(20, 4)  # 20 rows with 4 values each\n",
        "df = pd.DataFrame(data, index=dates, columns=[\"a\", \"b\", \"c\", \"d\"])\n",
        "\n",
        "print(df.head())  # prints only the first values\n",
        "\n",
        "print(df.tail(3))  # prints only the last (three) values"
      ],
      "metadata": {
        "colab": {
          "base_uri": "https://localhost:8080/"
        },
        "id": "Wv2d9AHVj8I4",
        "outputId": "1f41cf1d-e664-4e5e-875b-2fa3684f1f19"
      },
      "execution_count": 8,
      "outputs": [
        {
          "output_type": "stream",
          "name": "stdout",
          "text": [
            "                   a         b         c         d\n",
            "2013-01-01 -0.036050 -0.389737 -1.773208  1.034039\n",
            "2013-01-02  0.170702 -0.422041 -0.724043 -1.200224\n",
            "2013-01-03 -1.028236 -0.283168  0.855429  0.836579\n",
            "2013-01-04 -1.418137  0.329680  0.147871 -0.744977\n",
            "2013-01-05  1.536930 -1.708008  1.895684 -0.127222\n",
            "                   a         b         c         d\n",
            "2013-01-18 -0.779606  0.553652 -0.030407 -0.413704\n",
            "2013-01-19 -1.253986 -0.113520  1.923814  0.598770\n",
            "2013-01-20 -0.078383 -1.512828  0.599198  0.107753\n"
          ]
        }
      ]
    },
    {
      "cell_type": "markdown",
      "source": [
        "Then, we can retrieve the index and the columns:"
      ],
      "metadata": {
        "id": "ksqEVjmbkykh"
      }
    },
    {
      "cell_type": "code",
      "source": [
        "print(df.index)\n",
        "print(df.columns)"
      ],
      "metadata": {
        "colab": {
          "base_uri": "https://localhost:8080/"
        },
        "id": "TKf39LQ1lUP_",
        "outputId": "88c19208-0a82-4f56-86b4-ff8ec8152c56"
      },
      "execution_count": 9,
      "outputs": [
        {
          "output_type": "stream",
          "name": "stdout",
          "text": [
            "DatetimeIndex(['2013-01-01', '2013-01-02', '2013-01-03', '2013-01-04',\n",
            "               '2013-01-05', '2013-01-06', '2013-01-07', '2013-01-08',\n",
            "               '2013-01-09', '2013-01-10', '2013-01-11', '2013-01-12',\n",
            "               '2013-01-13', '2013-01-14', '2013-01-15', '2013-01-16',\n",
            "               '2013-01-17', '2013-01-18', '2013-01-19', '2013-01-20'],\n",
            "              dtype='datetime64[ns]', freq='D')\n",
            "Index(['a', 'b', 'c', 'd'], dtype='object')\n"
          ]
        }
      ]
    },
    {
      "cell_type": "markdown",
      "source": [
        "To select elements from the dataframe, we can use the getitem operator (`[]`) like we do with numpy, but we can now also index columns."
      ],
      "metadata": {
        "id": "NNT5pk4fnd1u"
      }
    },
    {
      "cell_type": "code",
      "source": [
        "column_a = df[\"a\"]  # extract the Series \"a\" from the df\n",
        "print(column_a)\n",
        "\n",
        "some_rows = df[1:3]  # extracts a sub-frame by the row index\n",
        "print(some_rows)\n",
        "\n",
        "sliced_by_index = df[\"20130102\":\"20130104\"]  # extracts a sub-frame by the index values\n",
        "print(sliced_by_index)"
      ],
      "metadata": {
        "colab": {
          "base_uri": "https://localhost:8080/"
        },
        "id": "uTJH8YlknePL",
        "outputId": "da6eaa62-03dd-4feb-862c-b6640342ce00"
      },
      "execution_count": 10,
      "outputs": [
        {
          "output_type": "stream",
          "name": "stdout",
          "text": [
            "2013-01-01   -0.036050\n",
            "2013-01-02    0.170702\n",
            "2013-01-03   -1.028236\n",
            "2013-01-04   -1.418137\n",
            "2013-01-05    1.536930\n",
            "2013-01-06    0.301234\n",
            "2013-01-07   -0.056693\n",
            "2013-01-08   -1.284757\n",
            "2013-01-09    0.228056\n",
            "2013-01-10   -1.807216\n",
            "2013-01-11   -0.617031\n",
            "2013-01-12    0.038732\n",
            "2013-01-13    0.453570\n",
            "2013-01-14    0.278195\n",
            "2013-01-15   -0.763572\n",
            "2013-01-16   -0.885871\n",
            "2013-01-17    1.932232\n",
            "2013-01-18   -0.779606\n",
            "2013-01-19   -1.253986\n",
            "2013-01-20   -0.078383\n",
            "Freq: D, Name: a, dtype: float64\n",
            "                   a         b         c         d\n",
            "2013-01-02  0.170702 -0.422041 -0.724043 -1.200224\n",
            "2013-01-03 -1.028236 -0.283168  0.855429  0.836579\n",
            "                   a         b         c         d\n",
            "2013-01-02  0.170702 -0.422041 -0.724043 -1.200224\n",
            "2013-01-03 -1.028236 -0.283168  0.855429  0.836579\n",
            "2013-01-04 -1.418137  0.329680  0.147871 -0.744977\n"
          ]
        }
      ]
    },
    {
      "cell_type": "markdown",
      "source": [
        "We can also represent the selection more explicitly by using the specific operators to access the elements by matching them from the label (`df.loc`) or by position (`df.iloc`)."
      ],
      "metadata": {
        "id": "YGqvr8ato1wg"
      }
    },
    {
      "cell_type": "code",
      "source": [
        "by_label = df.loc[dates[0], \"a\"]\n",
        "print(by_label)\n",
        "\n",
        "by_position = df.iloc[3:4, 0:2]\n",
        "print(by_position)"
      ],
      "metadata": {
        "id": "h4LNVTXpps6_",
        "outputId": "0063d390-d4b3-4c96-83aa-ced79c77805f",
        "colab": {
          "base_uri": "https://localhost:8080/"
        }
      },
      "execution_count": 11,
      "outputs": [
        {
          "output_type": "stream",
          "name": "stdout",
          "text": [
            "-0.03605024709893531\n",
            "                   a        b\n",
            "2013-01-04 -1.418137  0.32968\n"
          ]
        }
      ]
    },
    {
      "cell_type": "markdown",
      "source": [
        "Finally, we can slice through boolean arrays/series (like we did with numpy)."
      ],
      "metadata": {
        "id": "Bk_MuB8QqOR3"
      }
    },
    {
      "cell_type": "code",
      "source": [
        "boolean_indexed = df[df[\"a\"] > 0]\n",
        "print(boolean_indexed)"
      ],
      "metadata": {
        "colab": {
          "base_uri": "https://localhost:8080/"
        },
        "id": "uYvu1ZyCqOmq",
        "outputId": "46ef4b45-f2e5-4c3a-ba8c-31fe56a6be6d"
      },
      "execution_count": 12,
      "outputs": [
        {
          "output_type": "stream",
          "name": "stdout",
          "text": [
            "                   a         b         c         d\n",
            "2013-01-02  0.170702 -0.422041 -0.724043 -1.200224\n",
            "2013-01-05  1.536930 -1.708008  1.895684 -0.127222\n",
            "2013-01-06  0.301234  0.416774  1.197323 -0.416041\n",
            "2013-01-09  0.228056  0.657547 -2.062970 -0.471200\n",
            "2013-01-12  0.038732  0.274945 -0.998196 -0.127441\n",
            "2013-01-13  0.453570 -0.212440 -0.035703  0.720582\n",
            "2013-01-14  0.278195 -0.397982  0.626447 -0.740126\n",
            "2013-01-17  1.932232 -0.340469 -0.965420  0.253758\n"
          ]
        }
      ]
    },
    {
      "cell_type": "markdown",
      "source": [
        "For the rest, the operations performed with numpy are in general applicable to the dataframes. There are more specific operations that we will not cover in this course, but you can find good examples in the documentation of the library.\n",
        "\n",
        "Reference for Pandas tutorial:\n",
        "* https://pandas.pydata.org/docs/user_guide/10min.html"
      ],
      "metadata": {
        "id": "8XC9BpV8j5rF"
      }
    }
  ]
}
